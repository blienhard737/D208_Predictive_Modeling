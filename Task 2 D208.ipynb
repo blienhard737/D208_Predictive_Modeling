{
 "cells": [
  {
   "cell_type": "code",
   "execution_count": 3,
   "metadata": {},
   "outputs": [],
   "source": [
    "# Standard data science imports\n",
    "import numpy as np\n",
    "import pandas as pd\n",
    "from pandas import DataFrame\n",
    "\n",
    "\n",
    "\n",
    "# Visualization libraries\n",
    "import seaborn as sns\n",
    "import matplotlib.pyplot as plt\n",
    "\n",
    "# Statistics packages\n",
    "import pylab\n",
    "import statsmodels.api as sm\n",
    "import statistics as stat\n",
    "from scipy import stats\n",
    "\n",
    "import statsmodels.api as sm\n",
    "from statsmodels.stats.outliers_influence import variance_inflation_factor"
   ]
  },
  {
   "cell_type": "code",
   "execution_count": 4,
   "metadata": {},
   "outputs": [
    {
     "data": {
      "text/html": [
       "<div>\n",
       "<style scoped>\n",
       "    .dataframe tbody tr th:only-of-type {\n",
       "        vertical-align: middle;\n",
       "    }\n",
       "\n",
       "    .dataframe tbody tr th {\n",
       "        vertical-align: top;\n",
       "    }\n",
       "\n",
       "    .dataframe thead th {\n",
       "        text-align: right;\n",
       "    }\n",
       "</style>\n",
       "<table border=\"1\" class=\"dataframe\">\n",
       "  <thead>\n",
       "    <tr style=\"text-align: right;\">\n",
       "      <th></th>\n",
       "      <th>CaseOrder</th>\n",
       "      <th>Customer_id</th>\n",
       "      <th>Interaction</th>\n",
       "      <th>UID</th>\n",
       "      <th>City</th>\n",
       "      <th>State</th>\n",
       "      <th>County</th>\n",
       "      <th>Zip</th>\n",
       "      <th>Lat</th>\n",
       "      <th>Lng</th>\n",
       "      <th>...</th>\n",
       "      <th>TotalCharge</th>\n",
       "      <th>Additional_charges</th>\n",
       "      <th>Item1</th>\n",
       "      <th>Item2</th>\n",
       "      <th>Item3</th>\n",
       "      <th>Item4</th>\n",
       "      <th>Item5</th>\n",
       "      <th>Item6</th>\n",
       "      <th>Item7</th>\n",
       "      <th>Item8</th>\n",
       "    </tr>\n",
       "  </thead>\n",
       "  <tbody>\n",
       "    <tr>\n",
       "      <th>0</th>\n",
       "      <td>1</td>\n",
       "      <td>C412403</td>\n",
       "      <td>8cd49b13-f45a-4b47-a2bd-173ffa932c2f</td>\n",
       "      <td>3a83ddb66e2ae73798bdf1d705dc0932</td>\n",
       "      <td>Eva</td>\n",
       "      <td>AL</td>\n",
       "      <td>Morgan</td>\n",
       "      <td>35621</td>\n",
       "      <td>34.34960</td>\n",
       "      <td>-86.72508</td>\n",
       "      <td>...</td>\n",
       "      <td>3726.702860</td>\n",
       "      <td>17939.403420</td>\n",
       "      <td>3</td>\n",
       "      <td>3</td>\n",
       "      <td>2</td>\n",
       "      <td>2</td>\n",
       "      <td>4</td>\n",
       "      <td>3</td>\n",
       "      <td>3</td>\n",
       "      <td>4</td>\n",
       "    </tr>\n",
       "    <tr>\n",
       "      <th>1</th>\n",
       "      <td>2</td>\n",
       "      <td>Z919181</td>\n",
       "      <td>d2450b70-0337-4406-bdbb-bc1037f1734c</td>\n",
       "      <td>176354c5eef714957d486009feabf195</td>\n",
       "      <td>Marianna</td>\n",
       "      <td>FL</td>\n",
       "      <td>Jackson</td>\n",
       "      <td>32446</td>\n",
       "      <td>30.84513</td>\n",
       "      <td>-85.22907</td>\n",
       "      <td>...</td>\n",
       "      <td>4193.190458</td>\n",
       "      <td>17612.998120</td>\n",
       "      <td>3</td>\n",
       "      <td>4</td>\n",
       "      <td>3</td>\n",
       "      <td>4</td>\n",
       "      <td>4</td>\n",
       "      <td>4</td>\n",
       "      <td>3</td>\n",
       "      <td>3</td>\n",
       "    </tr>\n",
       "    <tr>\n",
       "      <th>2</th>\n",
       "      <td>3</td>\n",
       "      <td>F995323</td>\n",
       "      <td>a2057123-abf5-4a2c-abad-8ffe33512562</td>\n",
       "      <td>e19a0fa00aeda885b8a436757e889bc9</td>\n",
       "      <td>Sioux Falls</td>\n",
       "      <td>SD</td>\n",
       "      <td>Minnehaha</td>\n",
       "      <td>57110</td>\n",
       "      <td>43.54321</td>\n",
       "      <td>-96.63772</td>\n",
       "      <td>...</td>\n",
       "      <td>2434.234222</td>\n",
       "      <td>17505.192460</td>\n",
       "      <td>2</td>\n",
       "      <td>4</td>\n",
       "      <td>4</td>\n",
       "      <td>4</td>\n",
       "      <td>3</td>\n",
       "      <td>4</td>\n",
       "      <td>3</td>\n",
       "      <td>3</td>\n",
       "    </tr>\n",
       "    <tr>\n",
       "      <th>3</th>\n",
       "      <td>4</td>\n",
       "      <td>A879973</td>\n",
       "      <td>1dec528d-eb34-4079-adce-0d7a40e82205</td>\n",
       "      <td>cd17d7b6d152cb6f23957346d11c3f07</td>\n",
       "      <td>New Richland</td>\n",
       "      <td>MN</td>\n",
       "      <td>Waseca</td>\n",
       "      <td>56072</td>\n",
       "      <td>43.89744</td>\n",
       "      <td>-93.51479</td>\n",
       "      <td>...</td>\n",
       "      <td>2127.830423</td>\n",
       "      <td>12993.437350</td>\n",
       "      <td>3</td>\n",
       "      <td>5</td>\n",
       "      <td>5</td>\n",
       "      <td>3</td>\n",
       "      <td>4</td>\n",
       "      <td>5</td>\n",
       "      <td>5</td>\n",
       "      <td>5</td>\n",
       "    </tr>\n",
       "    <tr>\n",
       "      <th>4</th>\n",
       "      <td>5</td>\n",
       "      <td>C544523</td>\n",
       "      <td>5885f56b-d6da-43a3-8760-83583af94266</td>\n",
       "      <td>d2f0425877b10ed6bb381f3e2579424a</td>\n",
       "      <td>West Point</td>\n",
       "      <td>VA</td>\n",
       "      <td>King William</td>\n",
       "      <td>23181</td>\n",
       "      <td>37.59894</td>\n",
       "      <td>-76.88958</td>\n",
       "      <td>...</td>\n",
       "      <td>2113.073274</td>\n",
       "      <td>3716.525786</td>\n",
       "      <td>2</td>\n",
       "      <td>1</td>\n",
       "      <td>3</td>\n",
       "      <td>3</td>\n",
       "      <td>5</td>\n",
       "      <td>3</td>\n",
       "      <td>4</td>\n",
       "      <td>3</td>\n",
       "    </tr>\n",
       "  </tbody>\n",
       "</table>\n",
       "<p>5 rows × 50 columns</p>\n",
       "</div>"
      ],
      "text/plain": [
       "   CaseOrder Customer_id                           Interaction  \\\n",
       "0          1     C412403  8cd49b13-f45a-4b47-a2bd-173ffa932c2f   \n",
       "1          2     Z919181  d2450b70-0337-4406-bdbb-bc1037f1734c   \n",
       "2          3     F995323  a2057123-abf5-4a2c-abad-8ffe33512562   \n",
       "3          4     A879973  1dec528d-eb34-4079-adce-0d7a40e82205   \n",
       "4          5     C544523  5885f56b-d6da-43a3-8760-83583af94266   \n",
       "\n",
       "                                UID          City State        County    Zip  \\\n",
       "0  3a83ddb66e2ae73798bdf1d705dc0932           Eva    AL        Morgan  35621   \n",
       "1  176354c5eef714957d486009feabf195      Marianna    FL       Jackson  32446   \n",
       "2  e19a0fa00aeda885b8a436757e889bc9   Sioux Falls    SD     Minnehaha  57110   \n",
       "3  cd17d7b6d152cb6f23957346d11c3f07  New Richland    MN        Waseca  56072   \n",
       "4  d2f0425877b10ed6bb381f3e2579424a    West Point    VA  King William  23181   \n",
       "\n",
       "        Lat       Lng  ...  TotalCharge Additional_charges Item1 Item2  Item3  \\\n",
       "0  34.34960 -86.72508  ...  3726.702860       17939.403420     3     3      2   \n",
       "1  30.84513 -85.22907  ...  4193.190458       17612.998120     3     4      3   \n",
       "2  43.54321 -96.63772  ...  2434.234222       17505.192460     2     4      4   \n",
       "3  43.89744 -93.51479  ...  2127.830423       12993.437350     3     5      5   \n",
       "4  37.59894 -76.88958  ...  2113.073274        3716.525786     2     1      3   \n",
       "\n",
       "   Item4  Item5 Item6 Item7 Item8  \n",
       "0      2      4     3     3     4  \n",
       "1      4      4     4     3     3  \n",
       "2      4      3     4     3     3  \n",
       "3      3      4     5     5     5  \n",
       "4      3      5     3     4     3  \n",
       "\n",
       "[5 rows x 50 columns]"
      ]
     },
     "execution_count": 4,
     "metadata": {},
     "output_type": "execute_result"
    }
   ],
   "source": [
    "#import given CSV \n",
    "df = pd.read_csv (\"C:/Users/blien/Documents/WGU/D208/Task_2/3kfid8emf9rkc9ek30sf/medical_clean.csv\",dtype={'locationid':np.int64}) \n",
    "df.head()"
   ]
  },
  {
   "cell_type": "code",
   "execution_count": 5,
   "metadata": {},
   "outputs": [
    {
     "name": "stdout",
     "output_type": "stream",
     "text": [
      "<class 'pandas.core.frame.DataFrame'>\n",
      "RangeIndex: 10000 entries, 0 to 9999\n",
      "Empty DataFrameNone\n"
     ]
    }
   ],
   "source": [
    "# explore missing data\n",
    "missing = df[df.columns[df.isna().any()]].columns\n",
    "df_missing = df[missing]\n",
    "print(df_missing.info())"
   ]
  },
  {
   "cell_type": "code",
   "execution_count": 6,
   "metadata": {},
   "outputs": [
    {
     "data": {
      "text/html": [
       "<div>\n",
       "<style scoped>\n",
       "    .dataframe tbody tr th:only-of-type {\n",
       "        vertical-align: middle;\n",
       "    }\n",
       "\n",
       "    .dataframe tbody tr th {\n",
       "        vertical-align: top;\n",
       "    }\n",
       "\n",
       "    .dataframe thead th {\n",
       "        text-align: right;\n",
       "    }\n",
       "</style>\n",
       "<table border=\"1\" class=\"dataframe\">\n",
       "  <thead>\n",
       "    <tr style=\"text-align: right;\">\n",
       "      <th></th>\n",
       "      <th>CaseOrder</th>\n",
       "      <th>Customer_id</th>\n",
       "      <th>Interaction</th>\n",
       "      <th>UID</th>\n",
       "      <th>City</th>\n",
       "      <th>State</th>\n",
       "      <th>County</th>\n",
       "      <th>Zip</th>\n",
       "      <th>Lat</th>\n",
       "      <th>Lng</th>\n",
       "      <th>...</th>\n",
       "      <th>TotalCharge</th>\n",
       "      <th>Additional_charges</th>\n",
       "      <th>Item1</th>\n",
       "      <th>Item2</th>\n",
       "      <th>Item3</th>\n",
       "      <th>Item4</th>\n",
       "      <th>Item5</th>\n",
       "      <th>Item6</th>\n",
       "      <th>Item7</th>\n",
       "      <th>Item8</th>\n",
       "    </tr>\n",
       "  </thead>\n",
       "  <tbody>\n",
       "  </tbody>\n",
       "</table>\n",
       "<p>0 rows × 50 columns</p>\n",
       "</div>"
      ],
      "text/plain": [
       "Empty DataFrame\n",
       "Columns: [CaseOrder, Customer_id, Interaction, UID, City, State, County, Zip, Lat, Lng, Population, Area, TimeZone, Job, Children, Age, Income, Marital, Gender, ReAdmis, VitD_levels, Doc_visits, Full_meals_eaten, vitD_supp, Soft_drink, Initial_admin, HighBlood, Stroke, Complication_risk, Overweight, Arthritis, Diabetes, Hyperlipidemia, BackPain, Anxiety, Allergic_rhinitis, Reflux_esophagitis, Asthma, Services, Initial_days, TotalCharge, Additional_charges, Item1, Item2, Item3, Item4, Item5, Item6, Item7, Item8]\n",
       "Index: []\n",
       "\n",
       "[0 rows x 50 columns]"
      ]
     },
     "execution_count": 6,
     "metadata": {},
     "output_type": "execute_result"
    }
   ],
   "source": [
    "# look for duplicate data - looking for zero rows\n",
    "df[df.duplicated()]"
   ]
  },
  {
   "cell_type": "code",
   "execution_count": 7,
   "metadata": {},
   "outputs": [
    {
     "data": {
      "text/plain": [
       "False"
      ]
     },
     "execution_count": 7,
     "metadata": {},
     "output_type": "execute_result"
    }
   ],
   "source": [
    "# check if any cols are duplicated - Looking for False\n",
    "df.columns.duplicated().any()"
   ]
  },
  {
   "cell_type": "code",
   "execution_count": 8,
   "metadata": {},
   "outputs": [],
   "source": [
    "#renaming columns to better describe them\n",
    "df.rename(columns = {'Item1':'Timely admission',\n",
    "'Item2':'Timely treatment',\n",
    "'Item3':'Timely visits',\n",
    "'Item4':'Reliability',\n",
    "'Item5':'Options',\n",
    "'Item6':'Hours of treatment',\n",
    "'Item7':'Courteous staff',\n",
    "'Item8':'Active listening from Doctor'},\n",
    "inplace=True)"
   ]
  },
  {
   "cell_type": "code",
   "execution_count": 9,
   "metadata": {},
   "outputs": [],
   "source": [
    "# drop unwanted data\n",
    "df = df.drop(columns=['CaseOrder', 'Customer_id', 'Interaction','UID', 'City','State', 'County', 'Zip', 'Lat', 'Lng','Population','Area', 'TimeZone', 'Job', 'Marital', 'Complication_risk'])"
   ]
  },
  {
   "cell_type": "code",
   "execution_count": 10,
   "metadata": {},
   "outputs": [
    {
     "data": {
      "text/html": [
       "<div>\n",
       "<style scoped>\n",
       "    .dataframe tbody tr th:only-of-type {\n",
       "        vertical-align: middle;\n",
       "    }\n",
       "\n",
       "    .dataframe tbody tr th {\n",
       "        vertical-align: top;\n",
       "    }\n",
       "\n",
       "    .dataframe thead th {\n",
       "        text-align: right;\n",
       "    }\n",
       "</style>\n",
       "<table border=\"1\" class=\"dataframe\">\n",
       "  <thead>\n",
       "    <tr style=\"text-align: right;\">\n",
       "      <th></th>\n",
       "      <th>Children</th>\n",
       "      <th>Age</th>\n",
       "      <th>Income</th>\n",
       "      <th>Gender</th>\n",
       "      <th>ReAdmis</th>\n",
       "      <th>VitD_levels</th>\n",
       "      <th>Doc_visits</th>\n",
       "      <th>Full_meals_eaten</th>\n",
       "      <th>vitD_supp</th>\n",
       "      <th>Soft_drink</th>\n",
       "      <th>...</th>\n",
       "      <th>TotalCharge</th>\n",
       "      <th>Additional_charges</th>\n",
       "      <th>Timely admission</th>\n",
       "      <th>Timely treatment</th>\n",
       "      <th>Timely visits</th>\n",
       "      <th>Reliability</th>\n",
       "      <th>Options</th>\n",
       "      <th>Hours of treatment</th>\n",
       "      <th>Courteous staff</th>\n",
       "      <th>Active listening from Doctor</th>\n",
       "    </tr>\n",
       "  </thead>\n",
       "  <tbody>\n",
       "    <tr>\n",
       "      <th>0</th>\n",
       "      <td>1</td>\n",
       "      <td>53</td>\n",
       "      <td>86575.93</td>\n",
       "      <td>Male</td>\n",
       "      <td>No</td>\n",
       "      <td>19.141466</td>\n",
       "      <td>6</td>\n",
       "      <td>0</td>\n",
       "      <td>0</td>\n",
       "      <td>No</td>\n",
       "      <td>...</td>\n",
       "      <td>3726.702860</td>\n",
       "      <td>17939.403420</td>\n",
       "      <td>3</td>\n",
       "      <td>3</td>\n",
       "      <td>2</td>\n",
       "      <td>2</td>\n",
       "      <td>4</td>\n",
       "      <td>3</td>\n",
       "      <td>3</td>\n",
       "      <td>4</td>\n",
       "    </tr>\n",
       "    <tr>\n",
       "      <th>1</th>\n",
       "      <td>3</td>\n",
       "      <td>51</td>\n",
       "      <td>46805.99</td>\n",
       "      <td>Female</td>\n",
       "      <td>No</td>\n",
       "      <td>18.940352</td>\n",
       "      <td>4</td>\n",
       "      <td>2</td>\n",
       "      <td>1</td>\n",
       "      <td>No</td>\n",
       "      <td>...</td>\n",
       "      <td>4193.190458</td>\n",
       "      <td>17612.998120</td>\n",
       "      <td>3</td>\n",
       "      <td>4</td>\n",
       "      <td>3</td>\n",
       "      <td>4</td>\n",
       "      <td>4</td>\n",
       "      <td>4</td>\n",
       "      <td>3</td>\n",
       "      <td>3</td>\n",
       "    </tr>\n",
       "    <tr>\n",
       "      <th>2</th>\n",
       "      <td>3</td>\n",
       "      <td>53</td>\n",
       "      <td>14370.14</td>\n",
       "      <td>Female</td>\n",
       "      <td>No</td>\n",
       "      <td>18.057507</td>\n",
       "      <td>4</td>\n",
       "      <td>1</td>\n",
       "      <td>0</td>\n",
       "      <td>No</td>\n",
       "      <td>...</td>\n",
       "      <td>2434.234222</td>\n",
       "      <td>17505.192460</td>\n",
       "      <td>2</td>\n",
       "      <td>4</td>\n",
       "      <td>4</td>\n",
       "      <td>4</td>\n",
       "      <td>3</td>\n",
       "      <td>4</td>\n",
       "      <td>3</td>\n",
       "      <td>3</td>\n",
       "    </tr>\n",
       "    <tr>\n",
       "      <th>3</th>\n",
       "      <td>0</td>\n",
       "      <td>78</td>\n",
       "      <td>39741.49</td>\n",
       "      <td>Male</td>\n",
       "      <td>No</td>\n",
       "      <td>16.576858</td>\n",
       "      <td>4</td>\n",
       "      <td>1</td>\n",
       "      <td>0</td>\n",
       "      <td>No</td>\n",
       "      <td>...</td>\n",
       "      <td>2127.830423</td>\n",
       "      <td>12993.437350</td>\n",
       "      <td>3</td>\n",
       "      <td>5</td>\n",
       "      <td>5</td>\n",
       "      <td>3</td>\n",
       "      <td>4</td>\n",
       "      <td>5</td>\n",
       "      <td>5</td>\n",
       "      <td>5</td>\n",
       "    </tr>\n",
       "    <tr>\n",
       "      <th>4</th>\n",
       "      <td>1</td>\n",
       "      <td>22</td>\n",
       "      <td>1209.56</td>\n",
       "      <td>Female</td>\n",
       "      <td>No</td>\n",
       "      <td>17.439069</td>\n",
       "      <td>5</td>\n",
       "      <td>0</td>\n",
       "      <td>2</td>\n",
       "      <td>Yes</td>\n",
       "      <td>...</td>\n",
       "      <td>2113.073274</td>\n",
       "      <td>3716.525786</td>\n",
       "      <td>2</td>\n",
       "      <td>1</td>\n",
       "      <td>3</td>\n",
       "      <td>3</td>\n",
       "      <td>5</td>\n",
       "      <td>3</td>\n",
       "      <td>4</td>\n",
       "      <td>3</td>\n",
       "    </tr>\n",
       "  </tbody>\n",
       "</table>\n",
       "<p>5 rows × 34 columns</p>\n",
       "</div>"
      ],
      "text/plain": [
       "   Children  Age    Income  Gender ReAdmis  VitD_levels  Doc_visits  \\\n",
       "0         1   53  86575.93    Male      No    19.141466           6   \n",
       "1         3   51  46805.99  Female      No    18.940352           4   \n",
       "2         3   53  14370.14  Female      No    18.057507           4   \n",
       "3         0   78  39741.49    Male      No    16.576858           4   \n",
       "4         1   22   1209.56  Female      No    17.439069           5   \n",
       "\n",
       "   Full_meals_eaten  vitD_supp Soft_drink  ...  TotalCharge  \\\n",
       "0                 0          0         No  ...  3726.702860   \n",
       "1                 2          1         No  ...  4193.190458   \n",
       "2                 1          0         No  ...  2434.234222   \n",
       "3                 1          0         No  ...  2127.830423   \n",
       "4                 0          2        Yes  ...  2113.073274   \n",
       "\n",
       "  Additional_charges Timely admission Timely treatment Timely visits  \\\n",
       "0       17939.403420                3                3             2   \n",
       "1       17612.998120                3                4             3   \n",
       "2       17505.192460                2                4             4   \n",
       "3       12993.437350                3                5             5   \n",
       "4        3716.525786                2                1             3   \n",
       "\n",
       "  Reliability Options Hours of treatment Courteous staff  \\\n",
       "0           2       4                  3               3   \n",
       "1           4       4                  4               3   \n",
       "2           4       3                  4               3   \n",
       "3           3       4                  5               5   \n",
       "4           3       5                  3               4   \n",
       "\n",
       "  Active listening from Doctor  \n",
       "0                            4  \n",
       "1                            3  \n",
       "2                            3  \n",
       "3                            5  \n",
       "4                            3  \n",
       "\n",
       "[5 rows x 34 columns]"
      ]
     },
     "execution_count": 10,
     "metadata": {},
     "output_type": "execute_result"
    }
   ],
   "source": [
    "df.head()"
   ]
  },
  {
   "cell_type": "code",
   "execution_count": 11,
   "metadata": {},
   "outputs": [
    {
     "name": "stdout",
     "output_type": "stream",
     "text": [
      "Index(['Children', 'Age', 'Income', 'VitD_levels', 'Doc_visits',\n",
      "       'Full_meals_eaten', 'vitD_supp', 'Initial_days', 'TotalCharge',\n",
      "       'Additional_charges', 'Timely admission', 'Timely treatment',\n",
      "       'Timely visits', 'Reliability', 'Options', 'Hours of treatment',\n",
      "       'Courteous staff', 'Active listening from Doctor'],\n",
      "      dtype='object')\n"
     ]
    }
   ],
   "source": [
    "# variable for numeric data\n",
    "num_cols = df.select_dtypes(include=\"number\").columns\n",
    "print(num_cols)"
   ]
  },
  {
   "cell_type": "code",
   "execution_count": 12,
   "metadata": {},
   "outputs": [
    {
     "name": "stdout",
     "output_type": "stream",
     "text": [
      "Index(['Gender', 'ReAdmis', 'Soft_drink', 'Initial_admin', 'HighBlood',\n",
      "       'Stroke', 'Overweight', 'Arthritis', 'Diabetes', 'Hyperlipidemia',\n",
      "       'BackPain', 'Anxiety', 'Allergic_rhinitis', 'Reflux_esophagitis',\n",
      "       'Asthma', 'Services'],\n",
      "      dtype='object')\n"
     ]
    }
   ],
   "source": [
    "# variable for categorical data\n",
    "cat_cols = df.select_dtypes(include=\"object\").columns\n",
    "print(cat_cols)"
   ]
  },
  {
   "cell_type": "code",
   "execution_count": 13,
   "metadata": {},
   "outputs": [
    {
     "name": "stdout",
     "output_type": "stream",
     "text": [
      "['Gender_Male', 'Gender_Nonbinary', 'ReAdmis_Yes', 'Soft_drink_Yes', 'Initial_admin_Emergency Admission', 'Initial_admin_Observation Admission', 'HighBlood_Yes', 'Stroke_Yes', 'Overweight_Yes', 'Arthritis_Yes', 'Diabetes_Yes', 'Hyperlipidemia_Yes', 'BackPain_Yes', 'Anxiety_Yes', 'Allergic_rhinitis_Yes', 'Reflux_esophagitis_Yes', 'Asthma_Yes', 'Services_CT Scan', 'Services_Intravenous', 'Services_MRI']\n"
     ]
    }
   ],
   "source": [
    "# convert categorical data into dummy variables \n",
    "for c in cat_cols:\n",
    "    if c in df.columns:\n",
    "        df = pd.get_dummies(df, columns=[c], drop_first=True)\n",
    "pred_vars = df.select_dtypes(include=\"uint8\").columns.tolist()\n",
    "print(pred_vars)"
   ]
  },
  {
   "cell_type": "code",
   "execution_count": 14,
   "metadata": {},
   "outputs": [],
   "source": [
    "# reset the global target variable using its dummy variable\n",
    "target = df['ReAdmis_Yes']"
   ]
  },
  {
   "cell_type": "code",
   "execution_count": 15,
   "metadata": {},
   "outputs": [
    {
     "data": {
      "text/html": [
       "<div>\n",
       "<style scoped>\n",
       "    .dataframe tbody tr th:only-of-type {\n",
       "        vertical-align: middle;\n",
       "    }\n",
       "\n",
       "    .dataframe tbody tr th {\n",
       "        vertical-align: top;\n",
       "    }\n",
       "\n",
       "    .dataframe thead th {\n",
       "        text-align: right;\n",
       "    }\n",
       "</style>\n",
       "<table border=\"1\" class=\"dataframe\">\n",
       "  <thead>\n",
       "    <tr style=\"text-align: right;\">\n",
       "      <th></th>\n",
       "      <th>count</th>\n",
       "      <th>mean</th>\n",
       "      <th>std</th>\n",
       "      <th>min</th>\n",
       "      <th>25%</th>\n",
       "      <th>50%</th>\n",
       "      <th>75%</th>\n",
       "      <th>max</th>\n",
       "    </tr>\n",
       "  </thead>\n",
       "  <tbody>\n",
       "    <tr>\n",
       "      <th>Children</th>\n",
       "      <td>10000.0</td>\n",
       "      <td>2.097</td>\n",
       "      <td>2.164</td>\n",
       "      <td>0.000</td>\n",
       "      <td>0.000</td>\n",
       "      <td>1.000</td>\n",
       "      <td>3.000</td>\n",
       "      <td>10.000</td>\n",
       "    </tr>\n",
       "    <tr>\n",
       "      <th>Age</th>\n",
       "      <td>10000.0</td>\n",
       "      <td>53.512</td>\n",
       "      <td>20.639</td>\n",
       "      <td>18.000</td>\n",
       "      <td>36.000</td>\n",
       "      <td>53.000</td>\n",
       "      <td>71.000</td>\n",
       "      <td>89.000</td>\n",
       "    </tr>\n",
       "    <tr>\n",
       "      <th>Income</th>\n",
       "      <td>10000.0</td>\n",
       "      <td>40490.495</td>\n",
       "      <td>28521.153</td>\n",
       "      <td>154.080</td>\n",
       "      <td>19598.775</td>\n",
       "      <td>33768.420</td>\n",
       "      <td>54296.402</td>\n",
       "      <td>207249.100</td>\n",
       "    </tr>\n",
       "    <tr>\n",
       "      <th>VitD_levels</th>\n",
       "      <td>10000.0</td>\n",
       "      <td>17.964</td>\n",
       "      <td>2.017</td>\n",
       "      <td>9.806</td>\n",
       "      <td>16.626</td>\n",
       "      <td>17.951</td>\n",
       "      <td>19.348</td>\n",
       "      <td>26.394</td>\n",
       "    </tr>\n",
       "    <tr>\n",
       "      <th>Doc_visits</th>\n",
       "      <td>10000.0</td>\n",
       "      <td>5.012</td>\n",
       "      <td>1.046</td>\n",
       "      <td>1.000</td>\n",
       "      <td>4.000</td>\n",
       "      <td>5.000</td>\n",
       "      <td>6.000</td>\n",
       "      <td>9.000</td>\n",
       "    </tr>\n",
       "    <tr>\n",
       "      <th>Full_meals_eaten</th>\n",
       "      <td>10000.0</td>\n",
       "      <td>1.001</td>\n",
       "      <td>1.008</td>\n",
       "      <td>0.000</td>\n",
       "      <td>0.000</td>\n",
       "      <td>1.000</td>\n",
       "      <td>2.000</td>\n",
       "      <td>7.000</td>\n",
       "    </tr>\n",
       "    <tr>\n",
       "      <th>vitD_supp</th>\n",
       "      <td>10000.0</td>\n",
       "      <td>0.399</td>\n",
       "      <td>0.629</td>\n",
       "      <td>0.000</td>\n",
       "      <td>0.000</td>\n",
       "      <td>0.000</td>\n",
       "      <td>1.000</td>\n",
       "      <td>5.000</td>\n",
       "    </tr>\n",
       "    <tr>\n",
       "      <th>Initial_days</th>\n",
       "      <td>10000.0</td>\n",
       "      <td>34.455</td>\n",
       "      <td>26.309</td>\n",
       "      <td>1.002</td>\n",
       "      <td>7.896</td>\n",
       "      <td>35.836</td>\n",
       "      <td>61.161</td>\n",
       "      <td>71.981</td>\n",
       "    </tr>\n",
       "    <tr>\n",
       "      <th>TotalCharge</th>\n",
       "      <td>10000.0</td>\n",
       "      <td>5312.173</td>\n",
       "      <td>2180.394</td>\n",
       "      <td>1938.312</td>\n",
       "      <td>3179.374</td>\n",
       "      <td>5213.952</td>\n",
       "      <td>7459.700</td>\n",
       "      <td>9180.728</td>\n",
       "    </tr>\n",
       "    <tr>\n",
       "      <th>Additional_charges</th>\n",
       "      <td>10000.0</td>\n",
       "      <td>12934.529</td>\n",
       "      <td>6542.602</td>\n",
       "      <td>3125.703</td>\n",
       "      <td>7986.488</td>\n",
       "      <td>11573.978</td>\n",
       "      <td>15626.490</td>\n",
       "      <td>30566.070</td>\n",
       "    </tr>\n",
       "    <tr>\n",
       "      <th>Timely admission</th>\n",
       "      <td>10000.0</td>\n",
       "      <td>3.519</td>\n",
       "      <td>1.032</td>\n",
       "      <td>1.000</td>\n",
       "      <td>3.000</td>\n",
       "      <td>4.000</td>\n",
       "      <td>4.000</td>\n",
       "      <td>8.000</td>\n",
       "    </tr>\n",
       "    <tr>\n",
       "      <th>Timely treatment</th>\n",
       "      <td>10000.0</td>\n",
       "      <td>3.507</td>\n",
       "      <td>1.035</td>\n",
       "      <td>1.000</td>\n",
       "      <td>3.000</td>\n",
       "      <td>3.000</td>\n",
       "      <td>4.000</td>\n",
       "      <td>7.000</td>\n",
       "    </tr>\n",
       "    <tr>\n",
       "      <th>Timely visits</th>\n",
       "      <td>10000.0</td>\n",
       "      <td>3.511</td>\n",
       "      <td>1.033</td>\n",
       "      <td>1.000</td>\n",
       "      <td>3.000</td>\n",
       "      <td>4.000</td>\n",
       "      <td>4.000</td>\n",
       "      <td>8.000</td>\n",
       "    </tr>\n",
       "    <tr>\n",
       "      <th>Reliability</th>\n",
       "      <td>10000.0</td>\n",
       "      <td>3.515</td>\n",
       "      <td>1.036</td>\n",
       "      <td>1.000</td>\n",
       "      <td>3.000</td>\n",
       "      <td>4.000</td>\n",
       "      <td>4.000</td>\n",
       "      <td>7.000</td>\n",
       "    </tr>\n",
       "    <tr>\n",
       "      <th>Options</th>\n",
       "      <td>10000.0</td>\n",
       "      <td>3.497</td>\n",
       "      <td>1.030</td>\n",
       "      <td>1.000</td>\n",
       "      <td>3.000</td>\n",
       "      <td>3.000</td>\n",
       "      <td>4.000</td>\n",
       "      <td>7.000</td>\n",
       "    </tr>\n",
       "    <tr>\n",
       "      <th>Hours of treatment</th>\n",
       "      <td>10000.0</td>\n",
       "      <td>3.522</td>\n",
       "      <td>1.032</td>\n",
       "      <td>1.000</td>\n",
       "      <td>3.000</td>\n",
       "      <td>4.000</td>\n",
       "      <td>4.000</td>\n",
       "      <td>7.000</td>\n",
       "    </tr>\n",
       "    <tr>\n",
       "      <th>Courteous staff</th>\n",
       "      <td>10000.0</td>\n",
       "      <td>3.494</td>\n",
       "      <td>1.021</td>\n",
       "      <td>1.000</td>\n",
       "      <td>3.000</td>\n",
       "      <td>3.000</td>\n",
       "      <td>4.000</td>\n",
       "      <td>7.000</td>\n",
       "    </tr>\n",
       "    <tr>\n",
       "      <th>Active listening from Doctor</th>\n",
       "      <td>10000.0</td>\n",
       "      <td>3.510</td>\n",
       "      <td>1.042</td>\n",
       "      <td>1.000</td>\n",
       "      <td>3.000</td>\n",
       "      <td>3.000</td>\n",
       "      <td>4.000</td>\n",
       "      <td>7.000</td>\n",
       "    </tr>\n",
       "  </tbody>\n",
       "</table>\n",
       "</div>"
      ],
      "text/plain": [
       "                                count       mean        std       min  \\\n",
       "Children                      10000.0      2.097      2.164     0.000   \n",
       "Age                           10000.0     53.512     20.639    18.000   \n",
       "Income                        10000.0  40490.495  28521.153   154.080   \n",
       "VitD_levels                   10000.0     17.964      2.017     9.806   \n",
       "Doc_visits                    10000.0      5.012      1.046     1.000   \n",
       "Full_meals_eaten              10000.0      1.001      1.008     0.000   \n",
       "vitD_supp                     10000.0      0.399      0.629     0.000   \n",
       "Initial_days                  10000.0     34.455     26.309     1.002   \n",
       "TotalCharge                   10000.0   5312.173   2180.394  1938.312   \n",
       "Additional_charges            10000.0  12934.529   6542.602  3125.703   \n",
       "Timely admission              10000.0      3.519      1.032     1.000   \n",
       "Timely treatment              10000.0      3.507      1.035     1.000   \n",
       "Timely visits                 10000.0      3.511      1.033     1.000   \n",
       "Reliability                   10000.0      3.515      1.036     1.000   \n",
       "Options                       10000.0      3.497      1.030     1.000   \n",
       "Hours of treatment            10000.0      3.522      1.032     1.000   \n",
       "Courteous staff               10000.0      3.494      1.021     1.000   \n",
       "Active listening from Doctor  10000.0      3.510      1.042     1.000   \n",
       "\n",
       "                                    25%        50%        75%         max  \n",
       "Children                          0.000      1.000      3.000      10.000  \n",
       "Age                              36.000     53.000     71.000      89.000  \n",
       "Income                        19598.775  33768.420  54296.402  207249.100  \n",
       "VitD_levels                      16.626     17.951     19.348      26.394  \n",
       "Doc_visits                        4.000      5.000      6.000       9.000  \n",
       "Full_meals_eaten                  0.000      1.000      2.000       7.000  \n",
       "vitD_supp                         0.000      0.000      1.000       5.000  \n",
       "Initial_days                      7.896     35.836     61.161      71.981  \n",
       "TotalCharge                    3179.374   5213.952   7459.700    9180.728  \n",
       "Additional_charges             7986.488  11573.978  15626.490   30566.070  \n",
       "Timely admission                  3.000      4.000      4.000       8.000  \n",
       "Timely treatment                  3.000      3.000      4.000       7.000  \n",
       "Timely visits                     3.000      4.000      4.000       8.000  \n",
       "Reliability                       3.000      4.000      4.000       7.000  \n",
       "Options                           3.000      3.000      4.000       7.000  \n",
       "Hours of treatment                3.000      4.000      4.000       7.000  \n",
       "Courteous staff                   3.000      3.000      4.000       7.000  \n",
       "Active listening from Doctor      3.000      3.000      4.000       7.000  "
      ]
     },
     "execution_count": 15,
     "metadata": {},
     "output_type": "execute_result"
    }
   ],
   "source": [
    "# describe numeric data\n",
    "df[num_cols].describe().round(3).T"
   ]
  },
  {
   "cell_type": "code",
   "execution_count": 16,
   "metadata": {},
   "outputs": [
    {
     "data": {
      "text/plain": [
       "<Figure size 720x1440 with 0 Axes>"
      ]
     },
     "metadata": {},
     "output_type": "display_data"
    },
    {
     "data": {
      "image/png": "[encoded data removed]",
      "text/plain": [
       "<Figure size 1080x1080 with 20 Axes>"
      ]
     },
     "metadata": {
      "needs_background": "light"
     },
     "output_type": "display_data"
    }
   ],
   "source": [
    "# histogram plot numeric data\n",
    "fig = plt.figure(figsize=(10, 20))\n",
    "ax = df[num_cols].hist(bins = 15, figsize=(15,15))\n",
    "plt.title('Numeric Data')\n",
    "fig.tight_layout(h_pad=5, w_pad=5)\n",
    "plt.show()"
   ]
  },
  {
   "cell_type": "code",
   "execution_count": 17,
   "metadata": {},
   "outputs": [
    {
     "data": {
      "text/plain": [
       "Children                                 int64\n",
       "Age                                      int64\n",
       "Income                                 float64\n",
       "VitD_levels                            float64\n",
       "Doc_visits                               int64\n",
       "Full_meals_eaten                         int64\n",
       "vitD_supp                                int64\n",
       "Initial_days                           float64\n",
       "TotalCharge                            float64\n",
       "Additional_charges                     float64\n",
       "Timely admission                         int64\n",
       "Timely treatment                         int64\n",
       "Timely visits                            int64\n",
       "Reliability                              int64\n",
       "Options                                  int64\n",
       "Hours of treatment                       int64\n",
       "Courteous staff                          int64\n",
       "Active listening from Doctor             int64\n",
       "Gender_Male                              uint8\n",
       "Gender_Nonbinary                         uint8\n",
       "ReAdmis_Yes                              uint8\n",
       "Soft_drink_Yes                           uint8\n",
       "Initial_admin_Emergency Admission        uint8\n",
       "Initial_admin_Observation Admission      uint8\n",
       "HighBlood_Yes                            uint8\n",
       "Stroke_Yes                               uint8\n",
       "Overweight_Yes                           uint8\n",
       "Arthritis_Yes                            uint8\n",
       "Diabetes_Yes                             uint8\n",
       "Hyperlipidemia_Yes                       uint8\n",
       "BackPain_Yes                             uint8\n",
       "Anxiety_Yes                              uint8\n",
       "Allergic_rhinitis_Yes                    uint8\n",
       "Reflux_esophagitis_Yes                   uint8\n",
       "Asthma_Yes                               uint8\n",
       "Services_CT Scan                         uint8\n",
       "Services_Intravenous                     uint8\n",
       "Services_MRI                             uint8\n",
       "dtype: object"
      ]
     },
     "execution_count": 17,
     "metadata": {},
     "output_type": "execute_result"
    }
   ],
   "source": [
    "df.dtypes"
   ]
  },
  {
   "cell_type": "code",
   "execution_count": 18,
   "metadata": {},
   "outputs": [
    {
     "data": {
      "image/png": "[encoded data removed]",
      "text/plain": [
       "<Figure size 720x1440 with 10 Axes>"
      ]
     },
     "metadata": {
      "needs_background": "light"
     },
     "output_type": "display_data"
    }
   ],
   "source": [
    "# scatter plot of selected features\n",
    "fig = plt.figure(figsize=(10, 20))\n",
    "features = df[['Children', 'Age', 'Income', 'VitD_levels', 'Doc_visits',\n",
    "       'Full_meals_eaten', 'vitD_supp', 'Initial_days', 'TotalCharge',\n",
    "       'Additional_charges']]\n",
    "\n",
    "for i, col in enumerate(features):\n",
    "    plt.subplot(10, 3, i+1)\n",
    "    x = df[col]\n",
    "    y = df['ReAdmis_Yes']\n",
    "    plt.scatter(x, y, marker='o')\n",
    "    plt.title(col)\n",
    "    #plt.xlabel(col)\n",
    "    plt.ylabel('ReAmission Yes')\n",
    "    fig.tight_layout(h_pad=2, w_pad=2)"
   ]
  },
  {
   "cell_type": "code",
   "execution_count": 19,
   "metadata": {},
   "outputs": [
    {
     "data": {
      "image/png": "[encoded data removed]",
      "text/plain": [
       "<Figure size 432x288 with 1 Axes>"
      ]
     },
     "metadata": {
      "needs_background": "light"
     },
     "output_type": "display_data"
    }
   ],
   "source": [
    "#show distribution on target variable\n",
    "sns.countplot(x = df['ReAdmis_Yes'], data = df, palette = 'hls')\n",
    "plt.show()"
   ]
  },
  {
   "cell_type": "code",
   "execution_count": 20,
   "metadata": {},
   "outputs": [
    {
     "data": {
      "text/plain": [
       "0    6331\n",
       "1    3669\n",
       "Name: ReAdmis_Yes, dtype: int64"
      ]
     },
     "execution_count": 20,
     "metadata": {},
     "output_type": "execute_result"
    }
   ],
   "source": [
    "df['ReAdmis_Yes'].value_counts()"
   ]
  },
  {
   "cell_type": "code",
   "execution_count": 21,
   "metadata": {},
   "outputs": [
    {
     "name": "stdout",
     "output_type": "stream",
     "text": [
      "percentage of patients without readmission 63.31\n",
      "percentage of patients with readmission 36.69\n"
     ]
    }
   ],
   "source": [
    "#show percentage of target variables\n",
    "count_no_sub = len(df[df['ReAdmis_Yes']==0])\n",
    "count_sub = len(df[df['ReAdmis_Yes']==1])\n",
    "pct_of_no_sub = count_no_sub/(count_no_sub+count_sub)\n",
    "print(\"percentage of patients without readmission\", pct_of_no_sub*100)\n",
    "pct_of_sub = count_sub/(count_no_sub+count_sub)\n",
    "print(\"percentage of patients with readmission\", pct_of_sub*100)"
   ]
  },
  {
   "cell_type": "code",
   "execution_count": 22,
   "metadata": {},
   "outputs": [
    {
     "name": "stdout",
     "output_type": "stream",
     "text": [
      "File saved to: d208_task2_final_data.csv\n"
     ]
    }
   ],
   "source": [
    "# Provide copy of the prepared data set.\n",
    "final_data = 'd208_task2_final_data.csv'\n",
    "df.to_csv(final_data, index=False, header=True)\n",
    "print('File saved to: {}'.format(final_data))"
   ]
  },
  {
   "cell_type": "code",
   "execution_count": 23,
   "metadata": {},
   "outputs": [
    {
     "data": {
      "text/plain": [
       "Index(['Children', 'Age', 'Income', 'VitD_levels', 'Doc_visits',\n",
       "       'Full_meals_eaten', 'vitD_supp', 'Initial_days', 'TotalCharge',\n",
       "       'Additional_charges', 'Timely admission', 'Timely treatment',\n",
       "       'Timely visits', 'Reliability', 'Options', 'Hours of treatment',\n",
       "       'Courteous staff', 'Active listening from Doctor', 'Gender_Male',\n",
       "       'Gender_Nonbinary', 'ReAdmis_Yes', 'Soft_drink_Yes',\n",
       "       'Initial_admin_Emergency Admission',\n",
       "       'Initial_admin_Observation Admission', 'HighBlood_Yes', 'Stroke_Yes',\n",
       "       'Overweight_Yes', 'Arthritis_Yes', 'Diabetes_Yes', 'Hyperlipidemia_Yes',\n",
       "       'BackPain_Yes', 'Anxiety_Yes', 'Allergic_rhinitis_Yes',\n",
       "       'Reflux_esophagitis_Yes', 'Asthma_Yes', 'Services_CT Scan',\n",
       "       'Services_Intravenous', 'Services_MRI'],\n",
       "      dtype='object')"
      ]
     },
     "execution_count": 23,
     "metadata": {},
     "output_type": "execute_result"
    }
   ],
   "source": [
    "df.columns"
   ]
  },
  {
   "cell_type": "code",
   "execution_count": 24,
   "metadata": {},
   "outputs": [
    {
     "name": "stdout",
     "output_type": "stream",
     "text": [
      "Optimization terminated successfully.\n",
      "         Current function value: 0.033969\n",
      "         Iterations 14\n",
      "                           Logit Regression Results                           \n",
      "==============================================================================\n",
      "Dep. Variable:            ReAdmis_Yes   No. Observations:                10000\n",
      "Model:                          Logit   Df Residuals:                     9962\n",
      "Method:                           MLE   Df Model:                           37\n",
      "Date:                Tue, 20 Dec 2022   Pseudo R-squ.:                  0.9483\n",
      "Time:                        11:07:11   Log-Likelihood:                -339.69\n",
      "converged:                       True   LL-Null:                       -6572.9\n",
      "Covariance Type:            nonrobust   LLR p-value:                     0.000\n",
      "=======================================================================================================\n",
      "                                          coef    std err          z      P>|z|      [0.025      0.975]\n",
      "-------------------------------------------------------------------------------------------------------\n",
      "Children                                0.0770      0.046      1.690      0.091      -0.012       0.166\n",
      "Age                                    -0.0146      0.015     -0.996      0.319      -0.043       0.014\n",
      "Income                              -1.122e-08    3.6e-06     -0.003      0.998   -7.06e-06    7.04e-06\n",
      "VitD_levels                             0.0508      0.048      1.053      0.292      -0.044       0.145\n",
      "Doc_visits                              0.0043      0.098      0.044      0.965      -0.187       0.196\n",
      "Full_meals_eaten                        0.0323      0.103      0.314      0.754      -0.169       0.234\n",
      "vitD_supp                              -0.0816      0.162     -0.502      0.615      -0.400       0.237\n",
      "Initial_days                            1.2707      0.082     15.476      0.000       1.110       1.432\n",
      "TotalCharge                             0.0019      0.001      3.666      0.000       0.001       0.003\n",
      "Additional_charges                   6.652e-05    6.2e-05      1.073      0.283    -5.5e-05       0.000\n",
      "Timely admission                       -0.0069      0.150     -0.046      0.963      -0.301       0.287\n",
      "Timely treatment                        0.2508      0.132      1.897      0.058      -0.008       0.510\n",
      "Timely visits                          -0.1646      0.126     -1.306      0.192      -0.412       0.082\n",
      "Reliability                             0.0132      0.113      0.117      0.907      -0.208       0.235\n",
      "Options                                -0.1507      0.116     -1.301      0.193      -0.378       0.076\n",
      "Hours of treatment                     -0.0861      0.122     -0.705      0.481      -0.325       0.153\n",
      "Courteous staff                         0.1134      0.114      0.998      0.318      -0.109       0.336\n",
      "Active listening from Doctor           -0.1863      0.107     -1.742      0.081      -0.396       0.023\n",
      "Gender_Male                             0.2026      0.206      0.981      0.326      -0.202       0.607\n",
      "Gender_Nonbinary                        0.5699      0.691      0.825      0.410      -0.785       1.924\n",
      "Soft_drink_Yes                          0.0538      0.237      0.227      0.820      -0.410       0.518\n",
      "Initial_admin_Emergency Admission       1.3577      0.370      3.670      0.000       0.633       2.083\n",
      "Initial_admin_Observation Admission     0.7820      0.282      2.774      0.006       0.229       1.335\n",
      "Stroke_Yes                              1.6036      0.269      5.972      0.000       1.077       2.130\n",
      "Overweight_Yes                         -0.2813      0.226     -1.247      0.212      -0.723       0.161\n",
      "Arthritis_Yes                          -1.3976      0.228     -6.138      0.000      -1.844      -0.951\n",
      "Diabetes_Yes                            0.2944      0.230      1.278      0.201      -0.157       0.746\n",
      "Hyperlipidemia_Yes                      0.1289      0.222      0.582      0.561      -0.305       0.563\n",
      "BackPain_Yes                            0.1455      0.209      0.696      0.486      -0.264       0.555\n",
      "Anxiety_Yes                            -1.1069      0.227     -4.886      0.000      -1.551      -0.663\n",
      "Allergic_rhinitis_Yes                  -0.5020      0.211     -2.374      0.018      -0.916      -0.088\n",
      "Reflux_esophagitis_Yes                 -0.4441      0.215     -2.069      0.039      -0.865      -0.023\n",
      "Asthma_Yes                             -1.2954      0.231     -5.607      0.000      -1.748      -0.843\n",
      "Services_CT Scan                        1.4405      0.365      3.947      0.000       0.725       2.156\n",
      "Services_Intravenous                   -0.0939      0.227     -0.414      0.679      -0.538       0.350\n",
      "Services_MRI                            2.4016      0.472      5.089      0.000       1.477       3.327\n",
      "HighBlood_Yes                           0.0494      0.575      0.086      0.932      -1.078       1.177\n",
      "intercept                             -82.8569      4.786    -17.314      0.000     -92.237     -73.477\n",
      "=======================================================================================================\n",
      "\n",
      "Possibly complete quasi-separation: A fraction 0.81 of observations can be\n",
      "perfectly predicted. This might indicate that there is complete\n",
      "quasi-separation. In this case some parameters will not be identified.\n"
     ]
    }
   ],
   "source": [
    "#initial model\n",
    "df = pd.read_csv('d208_task2_final_data.csv')\n",
    "df['intercept'] = 1\n",
    "med_logit_model = sm.Logit(df['ReAdmis_Yes'], df[['Children', 'Age', 'Income', 'VitD_levels', 'Doc_visits',\n",
    "       'Full_meals_eaten', 'vitD_supp', 'Initial_days', 'TotalCharge',\n",
    "       'Additional_charges', 'Timely admission', 'Timely treatment',\n",
    "       'Timely visits', 'Reliability', 'Options', 'Hours of treatment',\n",
    "       'Courteous staff', 'Active listening from Doctor', 'Gender_Male',\n",
    "       'Gender_Nonbinary', 'Soft_drink_Yes',\n",
    "       'Initial_admin_Emergency Admission',\n",
    "       'Initial_admin_Observation Admission', 'Stroke_Yes',\n",
    "       'Overweight_Yes', 'Arthritis_Yes', 'Diabetes_Yes', 'Hyperlipidemia_Yes',\n",
    "       'BackPain_Yes', 'Anxiety_Yes', 'Allergic_rhinitis_Yes',\n",
    "       'Reflux_esophagitis_Yes', 'Asthma_Yes', 'Services_CT Scan',\n",
    "       'Services_Intravenous', 'Services_MRI', 'HighBlood_Yes', 'intercept']]).fit()\n",
    "\n",
    "print(med_logit_model.summary())"
   ]
  },
  {
   "cell_type": "code",
   "execution_count": 26,
   "metadata": {
    "scrolled": true
   },
   "outputs": [
    {
     "ename": "NameError",
     "evalue": "name 'logit_roc_auc' is not defined",
     "output_type": "error",
     "traceback": [
      "\u001b[1;31m---------------------------------------------------------------------------\u001b[0m",
      "\u001b[1;31mNameError\u001b[0m                                 Traceback (most recent call last)",
      "\u001b[1;32m~\\AppData\\Local\\Temp/ipykernel_20584/2131887318.py\u001b[0m in \u001b[0;36m<module>\u001b[1;34m\u001b[0m\n\u001b[0;32m      1\u001b[0m \u001b[1;31m# equation of the regression line/plane\u001b[0m\u001b[1;33m\u001b[0m\u001b[1;33m\u001b[0m\u001b[0m\n\u001b[1;32m----> 2\u001b[1;33m \u001b[0mprint\u001b[0m\u001b[1;33m(\u001b[0m\u001b[1;34m'Logit: {:.2f}'\u001b[0m\u001b[1;33m.\u001b[0m\u001b[0mformat\u001b[0m\u001b[1;33m(\u001b[0m\u001b[0mlogit_roc_auc\u001b[0m\u001b[1;33m)\u001b[0m\u001b[1;33m)\u001b[0m\u001b[1;33m\u001b[0m\u001b[1;33m\u001b[0m\u001b[0m\n\u001b[0m\u001b[0;32m      3\u001b[0m \u001b[0mequation\u001b[0m \u001b[1;33m=\u001b[0m \u001b[0mmed_logit_model\u001b[0m\u001b[1;33m.\u001b[0m\u001b[0msummary2\u001b[0m\u001b[1;33m(\u001b[0m\u001b[1;33m)\u001b[0m\u001b[1;33m.\u001b[0m\u001b[0mtables\u001b[0m\u001b[1;33m[\u001b[0m\u001b[1;36m1\u001b[0m\u001b[1;33m]\u001b[0m\u001b[1;33m\u001b[0m\u001b[1;33m\u001b[0m\u001b[0m\n\u001b[0;32m      4\u001b[0m \u001b[0mprint\u001b[0m\u001b[1;33m(\u001b[0m\u001b[1;34m'Estimate [{}] as L = '\u001b[0m\u001b[1;33m.\u001b[0m\u001b[0mformat\u001b[0m\u001b[1;33m(\u001b[0m\u001b[0mmed_logit_model\u001b[0m\u001b[1;33m.\u001b[0m\u001b[0msummary2\u001b[0m\u001b[1;33m(\u001b[0m\u001b[1;33m)\u001b[0m\u001b[1;33m.\u001b[0m\u001b[0mtables\u001b[0m\u001b[1;33m[\u001b[0m\u001b[1;36m0\u001b[0m\u001b[1;33m]\u001b[0m\u001b[1;33m[\u001b[0m\u001b[1;36m1\u001b[0m\u001b[1;33m]\u001b[0m\u001b[1;33m[\u001b[0m\u001b[1;36m1\u001b[0m\u001b[1;33m]\u001b[0m\u001b[1;33m)\u001b[0m\u001b[1;33m)\u001b[0m\u001b[1;33m\u001b[0m\u001b[1;33m\u001b[0m\u001b[0m\n\u001b[0;32m      5\u001b[0m \u001b[1;32mfor\u001b[0m \u001b[0mi\u001b[0m \u001b[1;32min\u001b[0m \u001b[0mequation\u001b[0m\u001b[1;33m.\u001b[0m\u001b[0mitertuples\u001b[0m\u001b[1;33m(\u001b[0m\u001b[1;33m)\u001b[0m\u001b[1;33m:\u001b[0m\u001b[1;33m\u001b[0m\u001b[1;33m\u001b[0m\u001b[0m\n",
      "\u001b[1;31mNameError\u001b[0m: name 'logit_roc_auc' is not defined"
     ]
    }
   ],
   "source": [
    "# equation of the regression line/plane\n",
    "print('Logit: {:.2f}'.format(logit_roc_auc))\n",
    "equation = med_logit_model.summary2().tables[1]\n",
    "print('Estimate [{}] as L = '.format(med_logit_model.summary2().tables[0][1][1]))\n",
    "for i in equation.itertuples():\n",
    "    print('   {:+.3f} x ( {} ) '.format(i[1],i[0]))"
   ]
  },
  {
   "cell_type": "code",
   "execution_count": 283,
   "metadata": {},
   "outputs": [],
   "source": [
    "X = df[['Initial_days', 'TotalCharge',\n",
    "       'Timely treatment',\n",
    "       'Initial_admin_Emergency Admission',\n",
    "       'Initial_admin_Observation Admission', 'Stroke_Yes',\n",
    "        'Arthritis_Yes', 'Anxiety_Yes', 'Allergic_rhinitis_Yes',\n",
    "       'Reflux_esophagitis_Yes', 'Asthma_Yes', 'Services_CT Scan',\n",
    "        'Services_MRI',]]"
   ]
  },
  {
   "cell_type": "code",
   "execution_count": 284,
   "metadata": {},
   "outputs": [
    {
     "name": "stdout",
     "output_type": "stream",
     "text": [
      "                                feature         VIF\n",
      "0                          Initial_days   55.589038\n",
      "1                           TotalCharge  122.661984\n",
      "2                      Timely treatment   11.281452\n",
      "3     Initial_admin_Emergency Admission    4.239495\n",
      "4   Initial_admin_Observation Admission    1.930854\n",
      "5                            Stroke_Yes    1.246819\n",
      "6                         Arthritis_Yes    1.583389\n",
      "7                           Anxiety_Yes    1.509682\n",
      "8                 Allergic_rhinitis_Yes    1.681690\n",
      "9                Reflux_esophagitis_Yes    1.736462\n",
      "10                           Asthma_Yes    1.401865\n",
      "11                     Services_CT Scan    1.147265\n",
      "12                         Services_MRI    1.044912\n"
     ]
    }
   ],
   "source": [
    "# the independent variables set\n",
    "B = df[['Initial_days', 'TotalCharge',\n",
    "       'Timely treatment',\n",
    "       'Initial_admin_Emergency Admission',\n",
    "       'Initial_admin_Observation Admission', 'Stroke_Yes',\n",
    "        'Arthritis_Yes', 'Anxiety_Yes', 'Allergic_rhinitis_Yes',\n",
    "       'Reflux_esophagitis_Yes', 'Asthma_Yes', 'Services_CT Scan',\n",
    "        'Services_MRI',]]\n",
    "  \n",
    "# VIF dataframe\n",
    "vif_data = pd.DataFrame()\n",
    "vif_data[\"feature\"] = B.columns\n",
    "  \n",
    "# calculating VIF for each feature\n",
    "vif_data[\"VIF\"] = [variance_inflation_factor(B.values, i)\n",
    "                          for i in range(len(B.columns))]\n",
    "  \n",
    "print(vif_data)"
   ]
  },
  {
   "cell_type": "code",
   "execution_count": 285,
   "metadata": {},
   "outputs": [
    {
     "name": "stdout",
     "output_type": "stream",
     "text": [
      "Optimization terminated successfully.\n",
      "         Current function value: 0.036944\n",
      "         Iterations 14\n",
      "                           Logit Regression Results                           \n",
      "==============================================================================\n",
      "Dep. Variable:            ReAdmis_Yes   No. Observations:                10000\n",
      "Model:                          Logit   Df Residuals:                     9987\n",
      "Method:                           MLE   Df Model:                           12\n",
      "Date:                Tue, 31 May 2022   Pseudo R-squ.:                  0.9438\n",
      "Time:                        12:30:49   Log-Likelihood:                -369.44\n",
      "converged:                       True   LL-Null:                       -6572.9\n",
      "                                        LLR p-value:                     0.000\n",
      "=======================================================================================================\n",
      "                                          coef    std err          z      P>|z|      [0.025      0.975]\n",
      "-------------------------------------------------------------------------------------------------------\n",
      "Initial_days                            1.3225      0.070     18.992      0.000       1.186       1.459\n",
      "Timely treatment                        0.1573      0.092      1.716      0.086      -0.022       0.337\n",
      "Initial_admin_Emergency Admission       2.2383      0.255      8.761      0.000       1.738       2.739\n",
      "Initial_admin_Observation Admission     0.6588      0.263      2.502      0.012       0.143       1.175\n",
      "Stroke_Yes                              1.4331      0.249      5.754      0.000       0.945       1.921\n",
      "Arthritis_Yes                          -1.0869      0.205     -5.304      0.000      -1.489      -0.685\n",
      "Anxiety_Yes                            -0.8520      0.207     -4.112      0.000      -1.258      -0.446\n",
      "Allergic_rhinitis_Yes                  -0.3308      0.195     -1.701      0.089      -0.712       0.050\n",
      "Reflux_esophagitis_Yes                 -0.3548      0.196     -1.814      0.070      -0.738       0.029\n",
      "Asthma_Yes                             -1.1364      0.215     -5.279      0.000      -1.558      -0.715\n",
      "Services_CT Scan                        1.4005      0.332      4.213      0.000       0.749       2.052\n",
      "Services_MRI                            2.3838      0.456      5.229      0.000       1.490       3.277\n",
      "intercept                             -72.9422      3.857    -18.912      0.000     -80.501     -65.383\n",
      "=======================================================================================================\n",
      "\n",
      "Possibly complete quasi-separation: A fraction 0.80 of observations can be\n",
      "perfectly predicted. This might indicate that there is complete\n",
      "quasi-separation. In this case some parameters will not be identified.\n"
     ]
    }
   ],
   "source": [
    "#reduced model\n",
    "df['intercept'] = 1\n",
    "med_logit_model = sm.Logit(df['ReAdmis_Yes'], df[['Initial_days', \n",
    "       'Timely treatment',\n",
    "       'Initial_admin_Emergency Admission',\n",
    "       'Initial_admin_Observation Admission', 'Stroke_Yes',\n",
    "        'Arthritis_Yes', 'Anxiety_Yes', 'Allergic_rhinitis_Yes',\n",
    "       'Reflux_esophagitis_Yes', 'Asthma_Yes', 'Services_CT Scan',\n",
    "        'Services_MRI',\n",
    "        'intercept']]).fit()\n",
    "\n",
    "print(med_logit_model.summary())"
   ]
  },
  {
   "cell_type": "code",
   "execution_count": 2,
   "metadata": {},
   "outputs": [
    {
     "ename": "NameError",
     "evalue": "name 'df' is not defined",
     "output_type": "error",
     "traceback": [
      "\u001b[1;31m---------------------------------------------------------------------------\u001b[0m",
      "\u001b[1;31mNameError\u001b[0m                                 Traceback (most recent call last)",
      "\u001b[1;32m~\\AppData\\Local\\Temp/ipykernel_20584/2402770018.py\u001b[0m in \u001b[0;36m<module>\u001b[1;34m\u001b[0m\n\u001b[0;32m      1\u001b[0m \u001b[1;31m#reduced model\u001b[0m\u001b[1;33m\u001b[0m\u001b[1;33m\u001b[0m\u001b[0m\n\u001b[1;32m----> 2\u001b[1;33m \u001b[0mdf\u001b[0m\u001b[1;33m[\u001b[0m\u001b[1;34m'intercept'\u001b[0m\u001b[1;33m]\u001b[0m \u001b[1;33m=\u001b[0m \u001b[1;36m1\u001b[0m\u001b[1;33m\u001b[0m\u001b[1;33m\u001b[0m\u001b[0m\n\u001b[0m\u001b[0;32m      3\u001b[0m med_logit_model = sm.Logit(df['ReAdmis_Yes'], df[['Initial_days', \n\u001b[0;32m      4\u001b[0m        \u001b[1;34m'Initial_admin_Emergency Admission'\u001b[0m\u001b[1;33m,\u001b[0m\u001b[1;33m\u001b[0m\u001b[1;33m\u001b[0m\u001b[0m\n\u001b[0;32m      5\u001b[0m        \u001b[1;34m'Stroke_Yes'\u001b[0m\u001b[1;33m,\u001b[0m\u001b[1;33m\u001b[0m\u001b[1;33m\u001b[0m\u001b[0m\n",
      "\u001b[1;31mNameError\u001b[0m: name 'df' is not defined"
     ]
    }
   ],
   "source": [
    "#reduced model\n",
    "df['intercept'] = 1\n",
    "med_logit_model = sm.Logit(df['ReAdmis_Yes'], df[['Initial_days', \n",
    "       'Initial_admin_Emergency Admission',\n",
    "       'Stroke_Yes',\n",
    "        'Arthritis_Yes', 'Anxiety_Yes',  'Asthma_Yes', 'Services_CT Scan',\n",
    "        'Services_MRI',\n",
    "        'intercept']]).fit()\n",
    "\n",
    "print(med_logit_model.summary())"
   ]
  },
  {
   "cell_type": "code",
   "execution_count": 287,
   "metadata": {},
   "outputs": [
    {
     "name": "stdout",
     "output_type": "stream",
     "text": [
      "                             feature       VIF\n",
      "0                       Initial_days  1.892056\n",
      "1  Initial_admin_Emergency Admission  1.644938\n",
      "2                         Stroke_Yes  1.187678\n",
      "3                      Arthritis_Yes  1.410166\n",
      "4                        Anxiety_Yes  1.360931\n",
      "5                         Asthma_Yes  1.301000\n",
      "6                   Services_CT Scan  1.120346\n",
      "7                       Services_MRI  1.036849\n"
     ]
    }
   ],
   "source": [
    "# the independent variables set\n",
    "B = df[['Initial_days', \n",
    "       'Initial_admin_Emergency Admission',\n",
    "        'Stroke_Yes',\n",
    "        'Arthritis_Yes', 'Anxiety_Yes',  'Asthma_Yes', 'Services_CT Scan',\n",
    "        'Services_MRI',]]\n",
    "  \n",
    "# VIF dataframe\n",
    "vif_data = pd.DataFrame()\n",
    "vif_data[\"feature\"] = B.columns\n",
    "  \n",
    "# calculating VIF for each feature\n",
    "vif_data[\"VIF\"] = [variance_inflation_factor(B.values, i)\n",
    "                          for i in range(len(B.columns))]\n",
    "  \n",
    "print(vif_data)"
   ]
  },
  {
   "cell_type": "code",
   "execution_count": 288,
   "metadata": {},
   "outputs": [],
   "source": [
    "X = df[['Initial_days', \n",
    "       'Timely treatment',\n",
    "       'Initial_admin_Emergency Admission',\n",
    "        'Stroke_Yes',\n",
    "        'Arthritis_Yes', 'Anxiety_Yes',  'Asthma_Yes', 'Services_CT Scan',\n",
    "        'Services_MRI',]]\n",
    "y = df['ReAdmis_Yes']"
   ]
  },
  {
   "cell_type": "code",
   "execution_count": 289,
   "metadata": {},
   "outputs": [
    {
     "name": "stderr",
     "output_type": "stream",
     "text": [
      "C:\\Users\\blien\\Anaconda3\\lib\\site-packages\\sklearn\\linear_model\\_logistic.py:765: ConvergenceWarning: lbfgs failed to converge (status=1):\n",
      "STOP: TOTAL NO. of ITERATIONS REACHED LIMIT.\n",
      "\n",
      "Increase the number of iterations (max_iter) or scale the data as shown in:\n",
      "    https://scikit-learn.org/stable/modules/preprocessing.html\n",
      "Please also refer to the documentation for alternative solver options:\n",
      "    https://scikit-learn.org/stable/modules/linear_model.html#logistic-regression\n",
      "  extra_warning_msg=_LOGISTIC_SOLVER_CONVERGENCE_MSG)\n"
     ]
    },
    {
     "data": {
      "text/plain": [
       "LogisticRegression(random_state=1)"
      ]
     },
     "execution_count": 289,
     "metadata": {},
     "output_type": "execute_result"
    }
   ],
   "source": [
    "#Split dataset into training and test dataset\n",
    "from sklearn.linear_model import LogisticRegression\n",
    "\n",
    "X_train, X_test, y_train, y_test = train_test_split(X, y, test_size=0.2, random_state=1)\n",
    "logreg = LogisticRegression(random_state = 1)\n",
    "logreg.fit(X_train, y_train)"
   ]
  },
  {
   "cell_type": "code",
   "execution_count": 290,
   "metadata": {},
   "outputs": [],
   "source": [
    "#predict the Test set results\n",
    "y_pred = logreg.predict(X_test)"
   ]
  },
  {
   "cell_type": "code",
   "execution_count": 291,
   "metadata": {},
   "outputs": [
    {
     "name": "stdout",
     "output_type": "stream",
     "text": [
      "[[1245   16]\n",
      " [  13  726]]\n"
     ]
    }
   ],
   "source": [
    "#Make Confusion Matrix\n",
    "from sklearn.metrics import confusion_matrix\n",
    "cm = confusion_matrix(y_test, y_pred)\n",
    "print(cm)"
   ]
  },
  {
   "cell_type": "code",
   "execution_count": 292,
   "metadata": {},
   "outputs": [
    {
     "data": {
      "text/plain": [
       "<matplotlib.axes._subplots.AxesSubplot at 0x135e7530>"
      ]
     },
     "execution_count": 292,
     "metadata": {},
     "output_type": "execute_result"
    },
    {
     "data": {
      "image/png": "[encoded data removed]",
      "text/plain": [
       "<Figure size 432x288 with 2 Axes>"
      ]
     },
     "metadata": {},
     "output_type": "display_data"
    }
   ],
   "source": [
    "y_predict_test = logreg.predict(X_test)\n",
    "cm2 = confusion_matrix(y_test, y_predict_test)\n",
    "sns.heatmap(cm2, annot = True)"
   ]
  },
  {
   "cell_type": "code",
   "execution_count": 293,
   "metadata": {},
   "outputs": [
    {
     "name": "stdout",
     "output_type": "stream",
     "text": [
      "              precision    recall  f1-score   support\n",
      "\n",
      "           0       0.99      0.99      0.99      1261\n",
      "           1       0.98      0.98      0.98       739\n",
      "\n",
      "    accuracy                           0.99      2000\n",
      "   macro avg       0.98      0.98      0.98      2000\n",
      "weighted avg       0.99      0.99      0.99      2000\n",
      "\n"
     ]
    }
   ],
   "source": [
    "from sklearn.metrics import classification_report\n",
    "print(classification_report(y_test, y_predict_test))"
   ]
  },
  {
   "cell_type": "code",
   "execution_count": 294,
   "metadata": {},
   "outputs": [
    {
     "data": {
      "image/png": "[encoded data removed]",
      "text/plain": [
       "<Figure size 432x288 with 1 Axes>"
      ]
     },
     "metadata": {},
     "output_type": "display_data"
    }
   ],
   "source": [
    "from sklearn.metrics import roc_auc_score\n",
    "from sklearn.metrics import roc_curve\n",
    "logit_roc_auc = roc_auc_score(y_test, logreg.predict(X_test))\n",
    "fpr, tpr, thresholds = roc_curve(y_test, logreg.predict_proba(X_test)[:,1])\n",
    "plt.figure()\n",
    "plt.plot(fpr, tpr, label='Logistic Regression (area = %0.2f)' % logit_roc_auc)\n",
    "plt.plot([0, 1], [0, 1],'r--')\n",
    "plt.xlim([0.0, 1.0])\n",
    "plt.ylim([0.0, 1.05])\n",
    "plt.xlabel('False Positive Rate')\n",
    "plt.ylabel('True Positive Rate')\n",
    "plt.title('Receiver operating characteristic')\n",
    "plt.legend(loc=\"lower right\")\n",
    "plt.savefig('Log_ROC')\n",
    "plt.show()"
   ]
  },
  {
   "cell_type": "code",
   "execution_count": 295,
   "metadata": {},
   "outputs": [
    {
     "name": "stdout",
     "output_type": "stream",
     "text": [
      "Logit: 0.98\n",
      "Estimate [ReAdmis_Yes] as L = \n",
      "   +1.287 x ( Initial_days ) \n",
      "   +1.850 x ( Initial_admin_Emergency Admission ) \n",
      "   +1.439 x ( Stroke_Yes ) \n",
      "   -1.050 x ( Arthritis_Yes ) \n",
      "   -0.842 x ( Anxiety_Yes ) \n",
      "   -1.101 x ( Asthma_Yes ) \n",
      "   +1.390 x ( Services_CT Scan ) \n",
      "   +2.318 x ( Services_MRI ) \n",
      "   -70.411 x ( intercept ) \n"
     ]
    }
   ],
   "source": [
    "# equation of the regression line/plane\n",
    "print('Logit: {:.2f}'.format(logit_roc_auc))\n",
    "equation = med_logit_model.summary2().tables[1]\n",
    "print('Estimate [{}] as L = '.format(med_logit_model.summary2().tables[0][1][1]))\n",
    "for i in equation.itertuples():\n",
    "    print('   {:+.3f} x ( {} ) '.format(i[1],i[0]))"
   ]
  },
  {
   "cell_type": "code",
   "execution_count": null,
   "metadata": {},
   "outputs": [],
   "source": []
  }
 ],
 "metadata": {
  "kernelspec": {
   "display_name": "Python 3 (ipykernel)",
   "language": "python",
   "name": "python3"
  },
  "language_info": {
   "codemirror_mode": {
    "name": "ipython",
    "version": 3
   },
   "file_extension": ".py",
   "mimetype": "text/x-python",
   "name": "python",
   "nbconvert_exporter": "python",
   "pygments_lexer": "ipython3",
   "version": "3.9.7"
  }
 },
 "nbformat": 4,
 "nbformat_minor": 2
}
